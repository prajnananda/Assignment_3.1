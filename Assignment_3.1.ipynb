{
 "cells": [
  {
   "cell_type": "code",
   "execution_count": 2,
   "metadata": {},
   "outputs": [
    {
     "name": "stdout",
     "output_type": "stream",
     "text": [
      "5\n",
      "ZerodivisonError:You are trying to do illegal divide by 0\n"
     ]
    }
   ],
   "source": [
    "##Assignment3.1\n",
    "\n",
    "#Task 1.1: Write a function to compute 5/0 and use try/except to catch the exceptions.\n",
    "\n",
    "#cal_div function wil take input 5\n",
    "def cal_div(div=0,d=0):\n",
    "    print (div)\n",
    "    res=div/d\n",
    "    return res\n",
    "try:\n",
    "    q= cal_div(5) # function to compute 5/0\n",
    "except ZeroDivisionError:\n",
    "    print(\"ZerodivisonError:You are trying to do illegal divide by 0\")\n",
    "except:\n",
    "    print(\"This is generic excception\")\n",
    "    "
   ]
  },
  {
   "cell_type": "code",
   "execution_count": 3,
   "metadata": {},
   "outputs": [
    {
     "name": "stdout",
     "output_type": "stream",
     "text": [
      "Americans play baseball\n",
      "Americans play cricket\n",
      "Americans watch baseball\n",
      "Americans watch cricket\n",
      "Indians play baseball\n",
      "Indians play cricket\n",
      "Indians watch baseball\n",
      "Indians watch cricket\n"
     ]
    }
   ],
   "source": [
    "#Assignment3.1\n",
    "#Task 1.2:  Implement a Python program to generate all sentences where subject is in\n",
    "#[\"Americans\", \"Indians\"] and verb is in [\"Play\", \"watch\"] and the object is in\n",
    "#[\"Baseball\",\"cricket\"].\n",
    "#Hint: Subject,Verb and Object should be declared in the program as shown below.\n",
    "#subjects=[\"Americans \",\"Indians\"]\n",
    "#verbs=[\"play\",\"watch\"]\n",
    "#objects=[\"Baseball\",\"Cricket\"]\n",
    "#Output should come as below:\n",
    "#Americans play Baseball.\n",
    "#Americans play Cricket.\n",
    "#Americans watch Baseball.\n",
    "#Americans watch Cricket.\n",
    "#Indians play Baseball.\n",
    "#Indians play Cricket.\n",
    "#Indians watch Baseball.\n",
    "#Indians watch Cricket.\n",
    "\n",
    "subjects = [\"Americans\",\"Indians\"]\n",
    "verbs = [\"play\",\"watch\"]\n",
    "objects = [\"baseball\",\"cricket\"]\n",
    "\n",
    "sentence = [(i+\" \"+j+\" \"+k) for i in subjects for j in verbs for k in objects]\n",
    "for i in sentence:\n",
    "    print(i)\n"
   ]
  },
  {
   "cell_type": "code",
   "execution_count": 4,
   "metadata": {},
   "outputs": [
    {
     "data": {
      "text/plain": [
       "array([[ 1,  1,  1],\n",
       "       [ 4,  2,  1],\n",
       "       [ 9,  3,  1],\n",
       "       [25,  5,  1]])"
      ]
     },
     "execution_count": 4,
     "metadata": {},
     "output_type": "execute_result"
    }
   ],
   "source": [
    "##Assignment3.1\n",
    "#Task 2.1: Write a function so that the columns of the output matrix are powers of the input vector.\n",
    "\n",
    "import numpy as np\n",
    "x = np.array([1, 2, 3, 5])\n",
    "np.vander(x,3)"
   ]
  },
  {
   "cell_type": "code",
   "execution_count": null,
   "metadata": {},
   "outputs": [],
   "source": []
  }
 ],
 "metadata": {
  "kernelspec": {
   "display_name": "Python 3",
   "language": "python",
   "name": "python3"
  },
  "language_info": {
   "codemirror_mode": {
    "name": "ipython",
    "version": 3
   },
   "file_extension": ".py",
   "mimetype": "text/x-python",
   "name": "python",
   "nbconvert_exporter": "python",
   "pygments_lexer": "ipython3",
   "version": "3.6.4"
  }
 },
 "nbformat": 4,
 "nbformat_minor": 2
}
